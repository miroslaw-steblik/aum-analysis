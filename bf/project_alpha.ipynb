{
 "cells": [
  {
   "cell_type": "markdown",
   "metadata": {},
   "source": [
    "# **Project Alpha**"
   ]
  },
  {
   "cell_type": "markdown",
   "metadata": {},
   "source": [
    "## Dependencies"
   ]
  },
  {
   "cell_type": "code",
   "execution_count": 1,
   "metadata": {},
   "outputs": [],
   "source": [
    "import json\n",
    "import pandas as pd\n",
    "import numpy as np\n",
    "import os\n",
    "\n"
   ]
  },
  {
   "cell_type": "markdown",
   "metadata": {},
   "source": [
    "## Settings\n"
   ]
  },
  {
   "cell_type": "code",
   "execution_count": 2,
   "metadata": {},
   "outputs": [],
   "source": [
    "# Set the display option\n",
    "pd.set_option('display.expand_frame_repr', False)\n",
    "\n",
    "data_file = 'data/Sample data.json'\n",
    "clean_file = 'data/clean_data.json'"
   ]
  },
  {
   "cell_type": "markdown",
   "metadata": {},
   "source": [
    "## Test"
   ]
  },
  {
   "cell_type": "code",
   "execution_count": 3,
   "metadata": {},
   "outputs": [
    {
     "name": "stdout",
     "output_type": "stream",
     "text": [
      "An error occurred: JSONDecodeError, Expecting property name enclosed in double quotes: line 3 column 4 (char 8)\n"
     ]
    }
   ],
   "source": [
    "\n",
    "# Check if the file exists\n",
    "if os.path.exists(data_file):\n",
    "    # Try to load and parse the JSON in the file\n",
    "    try:\n",
    "        with open(data_file, 'r') as f:\n",
    "            data = json.load(f)\n",
    "        df = pd.DataFrame(data)\n",
    "        print(df.head())\n",
    "    except Exception as e:\n",
    "        print(f\"An error occurred: {type(e).__name__}, {str(e)}\")\n",
    "else:\n",
    "    print(f\"The file {data_file} does not exist.\")"
   ]
  },
  {
   "cell_type": "code",
   "execution_count": 4,
   "metadata": {},
   "outputs": [
    {
     "name": "stdout",
     "output_type": "stream",
     "text": [
      "Cleaned data written to data/clean_data.json.\n"
     ]
    }
   ],
   "source": [
    "# Check if the file exists\n",
    "if os.path.exists(data_file):\n",
    "    # Read the file\n",
    "    with open(data_file, 'r') as f:\n",
    "        data = f.read()\n",
    "\n",
    "    # Replace single quotes with double quotes\n",
    "    data = data.replace(\"'\", '\"')\n",
    "\n",
    "    # Write the result back to the file\n",
    "    with open(clean_file, 'w') as f:\n",
    "        f.write(data)\n",
    "    print(f\"Cleaned data written to {clean_file}.\")\n",
    "else:\n",
    "    print(f\"The file {clean_file} does not exist.\")"
   ]
  },
  {
   "cell_type": "markdown",
   "metadata": {},
   "source": [
    "## Data Cleaning"
   ]
  },
  {
   "cell_type": "code",
   "execution_count": 5,
   "metadata": {},
   "outputs": [
    {
     "name": "stdout",
     "output_type": "stream",
     "text": [
      "   Project                                Question level 1   Question level 2 Question level 3  Company A  Company B  Company C  Company D  Company E\n",
      "1    Alpha    What was your total AuM in the last 5 years?           EoY 2020            Total        0.0     3550.0     6000.0     6857.0        0.0\n",
      "2    Alpha    What was your total AuM in the last 5 years?           EoY 2021            Total        0.0     3710.0     6211.0     6843.0     5138.0\n",
      "3    Alpha    What was your total AuM in the last 5 years?           EoY 2022            Total        0.0     3940.0     9358.0     6737.0     5698.0\n",
      "4    Alpha    What was your total AuM in the last 5 years?           EoY 2023            Total        0.0     4060.0     6521.0     6827.0     5745.0\n",
      "5    Alpha    What was your total AuM in the last 5 years?           EoY 2024            Total        0.0     4251.0     6755.0     7201.0     5717.0\n",
      "6    Alpha    What was your total AuM in the last 5 years?  YTD 31 March 2024            Total        0.0     4275.7     6848.9     7629.4     5617.0\n",
      "7    Alpha  What was your AuM split over the last 5 years?           EoY 2020     Fixed income     1000.0      600.0     2500.0     1010.0        0.0\n",
      "8    Alpha  What was your AuM split over the last 5 years?           EoY 2020      Hedge funds      400.0      300.0      450.0      790.0        0.0\n",
      "9    Alpha  What was your AuM split over the last 5 years?           EoY 2020      Multi-asset      800.0      950.0     1000.0      300.0        0.0\n",
      "10   Alpha  What was your AuM split over the last 5 years?           EoY 2020            Other      300.0      250.0      350.0      380.0        0.0\n",
      "11   Alpha  What was your AuM split over the last 5 years?           EoY 2020     Private Debt      700.0        0.0      200.0      920.0        0.0\n",
      "12   Alpha  What was your AuM split over the last 5 years?           EoY 2020   Private Equity      600.0      750.0      800.0      850.0        0.0\n",
      "13   Alpha  What was your AuM split over the last 5 years?           EoY 2020  Public equities      500.0      700.0      600.0     2607.0        0.0\n",
      "14   Alpha  What was your AuM split over the last 5 years?           EoY 2021     Fixed income     1050.0      650.0     2551.0     1100.0        0.0\n",
      "15   Alpha  What was your AuM split over the last 5 years?           EoY 2021      Hedge funds      410.0      310.0      460.0      810.0     1408.0\n",
      "16   Alpha  What was your AuM split over the last 5 years?           EoY 2021      Multi-asset      820.0      980.0     1020.0      330.0        0.0\n",
      "17   Alpha  What was your AuM split over the last 5 years?           EoY 2021            Other      310.0      260.0      360.0      390.0      330.0\n",
      "18   Alpha  What was your AuM split over the last 5 years?           EoY 2021     Private Debt      720.0        0.0      230.0      940.0        0.0\n",
      "19   Alpha  What was your AuM split over the last 5 years?           EoY 2021   Private Equity      620.0      780.0      830.0      870.0     2760.0\n",
      "20   Alpha  What was your AuM split over the last 5 years?           EoY 2021  Public equities      520.0      730.0      630.0     2403.0      640.0\n",
      "<class 'pandas.core.frame.DataFrame'>\n",
      "RangeIndex: 53 entries, 1 to 53\n",
      "Data columns (total 9 columns):\n",
      " #   Column            Non-Null Count  Dtype  \n",
      "---  ------            --------------  -----  \n",
      " 0   Project           53 non-null     object \n",
      " 1   Question level 1  53 non-null     object \n",
      " 2   Question level 2  53 non-null     object \n",
      " 3   Question level 3  53 non-null     object \n",
      " 4   Company A         53 non-null     float64\n",
      " 5   Company B         53 non-null     float64\n",
      " 6   Company C         53 non-null     float64\n",
      " 7   Company D         53 non-null     float64\n",
      " 8   Company E         53 non-null     float64\n",
      "dtypes: float64(5), object(4)\n",
      "memory usage: 3.9+ KB\n",
      "None\n"
     ]
    }
   ],
   "source": [
    "df = pd.read_json(clean_file)\n",
    "\n",
    "# Get the first row of the DataFrame\n",
    "first_row = df.iloc[0]\n",
    "\n",
    "# Create a dictionary mapping the old column names to the new ones\n",
    "column_mapping = {f'Response {i+1}': first_row[f'Response {i+1}'] for i in range(5)}\n",
    "\n",
    "# Rename the columns\n",
    "df.rename(columns=column_mapping, inplace=True)\n",
    "\n",
    "# Drop the first row\n",
    "df.drop(df.index[0], inplace=True)\n",
    "\n",
    "# Generate a list of 'Company' columns\n",
    "company_cols = [col for col in df.columns if 'Company' in col]\n",
    "\n",
    "# Convert the numeric 'Company' values to float and round them\n",
    "for col in company_cols:\n",
    "    df[col] = pd.to_numeric(df[col], errors='coerce')\n",
    "    df[col] = df[col].round(1)\n",
    "\n",
    "\n",
    "# Fill NaN values with 0\n",
    "df.fillna(0, inplace=True)\n",
    "\n",
    "# Print the DataFrame\n",
    "print(df.head(20))\n",
    "print(df.info())"
   ]
  },
  {
   "cell_type": "code",
   "execution_count": 6,
   "metadata": {},
   "outputs": [
    {
     "name": "stdout",
     "output_type": "stream",
     "text": [
      "   Project                                Question level 1   Question level 2 Question level 3  Company A  Company B  Company C  Company D  Company E  Company A Growth  Company B Growth  Company C Growth  Company D Growth  Company E Growth\n",
      "1    Alpha    What was your total AuM in the last 5 years?           EoY 2020            Total        0.0     3550.0     6000.0     6857.0        0.0               NaN               NaN               NaN               NaN               NaN\n",
      "2    Alpha    What was your total AuM in the last 5 years?           EoY 2021            Total        0.0     3710.0     6211.0     6843.0     5138.0               NaN          4.507042          3.516667         -0.204171               inf\n",
      "3    Alpha    What was your total AuM in the last 5 years?           EoY 2022            Total        0.0     3940.0     9358.0     6737.0     5698.0               NaN          6.199461         50.668169         -1.549028         10.899183\n",
      "4    Alpha    What was your total AuM in the last 5 years?           EoY 2023            Total        0.0     4060.0     6521.0     6827.0     5745.0               NaN          3.045685        -30.316307          1.335906          0.824851\n",
      "6    Alpha    What was your total AuM in the last 5 years?  YTD 31 March 2024            Total        0.0     4275.7     6848.9     7629.4     5617.0               NaN          5.312808          5.028370         11.753332         -2.228024\n",
      "7    Alpha  What was your AuM split over the last 5 years?           EoY 2020     Fixed income     1000.0      600.0     2500.0     1010.0        0.0               inf        -85.967210        -63.497788        -86.761737       -100.000000\n",
      "8    Alpha  What was your AuM split over the last 5 years?           EoY 2020      Hedge funds      400.0      300.0      450.0      790.0        0.0        -60.000000        -50.000000        -82.000000        -21.782178               NaN\n",
      "9    Alpha  What was your AuM split over the last 5 years?           EoY 2020      Multi-asset      800.0      950.0     1000.0      300.0        0.0        100.000000        216.666667        122.222222        -62.025316               NaN\n",
      "10   Alpha  What was your AuM split over the last 5 years?           EoY 2020            Other      300.0      250.0      350.0      380.0        0.0        -62.500000        -73.684211        -65.000000         26.666667               NaN\n",
      "11   Alpha  What was your AuM split over the last 5 years?           EoY 2020     Private Debt      700.0        0.0      200.0      920.0        0.0        133.333333       -100.000000        -42.857143        142.105263               NaN\n",
      "12   Alpha  What was your AuM split over the last 5 years?           EoY 2020   Private Equity      600.0      750.0      800.0      850.0        0.0        -14.285714               inf        300.000000         -7.608696               NaN\n",
      "13   Alpha  What was your AuM split over the last 5 years?           EoY 2020  Public equities      500.0      700.0      600.0     2607.0        0.0        -16.666667         -6.666667        -25.000000        206.705882               NaN\n",
      "14   Alpha  What was your AuM split over the last 5 years?           EoY 2021     Fixed income     1050.0      650.0     2551.0     1100.0        0.0        110.000000         -7.142857        325.166667        -57.805907               NaN\n",
      "15   Alpha  What was your AuM split over the last 5 years?           EoY 2021      Hedge funds      410.0      310.0      460.0      810.0     1408.0        -60.952381        -52.307692        -81.967856        -26.363636               inf\n",
      "16   Alpha  What was your AuM split over the last 5 years?           EoY 2021      Multi-asset      820.0      980.0     1020.0      330.0        0.0        100.000000        216.129032        121.739130        -59.259259       -100.000000\n",
      "17   Alpha  What was your AuM split over the last 5 years?           EoY 2021            Other      310.0      260.0      360.0      390.0      330.0        -62.195122        -73.469388        -64.705882         18.181818               inf\n",
      "18   Alpha  What was your AuM split over the last 5 years?           EoY 2021     Private Debt      720.0        0.0      230.0      940.0        0.0        132.258065       -100.000000        -36.111111        141.025641       -100.000000\n",
      "19   Alpha  What was your AuM split over the last 5 years?           EoY 2021   Private Equity      620.0      780.0      830.0      870.0     2760.0        -13.888889               inf        260.869565         -7.446809               inf\n",
      "20   Alpha  What was your AuM split over the last 5 years?           EoY 2021  Public equities      520.0      730.0      630.0     2403.0      640.0        -16.129032         -6.410256        -24.096386        176.206897        -76.811594\n",
      "21   Alpha  What was your AuM split over the last 5 years?           EoY 2022     Fixed income     1100.0      780.0     5543.0     1103.0        0.0        111.538462          6.849315        779.841270        -54.099043       -100.000000\n",
      "<class 'pandas.core.frame.DataFrame'>\n",
      "Index: 45 entries, 1 to 53\n",
      "Data columns (total 14 columns):\n",
      " #   Column            Non-Null Count  Dtype  \n",
      "---  ------            --------------  -----  \n",
      " 0   Project           45 non-null     object \n",
      " 1   Question level 1  45 non-null     object \n",
      " 2   Question level 2  45 non-null     object \n",
      " 3   Question level 3  45 non-null     object \n",
      " 4   Company A         45 non-null     float64\n",
      " 5   Company B         45 non-null     float64\n",
      " 6   Company C         45 non-null     float64\n",
      " 7   Company D         45 non-null     float64\n",
      " 8   Company E         45 non-null     float64\n",
      " 9   Company A Growth  40 non-null     float64\n",
      " 10  Company B Growth  44 non-null     float64\n",
      " 11  Company C Growth  44 non-null     float64\n",
      " 12  Company D Growth  44 non-null     float64\n",
      " 13  Company E Growth  37 non-null     float64\n",
      "dtypes: float64(10), object(4)\n",
      "memory usage: 5.3+ KB\n",
      "None\n"
     ]
    }
   ],
   "source": [
    "# drop EoY 2024 in 'Question level 2' as EoY 2024 is not a valid value in the real world scenario\n",
    "df = df[df['Question level 2'] != 'EoY 2024']\n",
    "\n",
    "\n",
    "# Calculate growth for each 'Response' column\n",
    "for col in company_cols:\n",
    "    growth_col = col + ' Growth'\n",
    "    df[growth_col] = df[col].pct_change() * 100  # Growth percentage\n",
    "\n",
    "print(df.head(20))\n",
    "print(df.info())"
   ]
  },
  {
   "cell_type": "code",
   "execution_count": 7,
   "metadata": {},
   "outputs": [
    {
     "name": "stdout",
     "output_type": "stream",
     "text": [
      "                                                            1                                             2                                             3                                             4                                             6                                               7                                               8                                               9                                               10                                              11  ...                                              44                                              45                                              46                                              47                                              48                                          49                                          50                                          51                                          52                                          53\n",
      "Project                                                  Alpha                                         Alpha                                         Alpha                                         Alpha                                         Alpha                                           Alpha                                           Alpha                                           Alpha                                           Alpha                                           Alpha  ...                                           Alpha                                           Alpha                                           Alpha                                           Alpha                                           Alpha                                       Alpha                                       Alpha                                       Alpha                                       Alpha                                       Alpha\n",
      "Question level 1  What was your total AuM in the last 5 years?  What was your total AuM in the last 5 years?  What was your total AuM in the last 5 years?  What was your total AuM in the last 5 years?  What was your total AuM in the last 5 years?  What was your AuM split over the last 5 years?  What was your AuM split over the last 5 years?  What was your AuM split over the last 5 years?  What was your AuM split over the last 5 years?  What was your AuM split over the last 5 years?  ...  What was your AuM split over the last 5 years?  What was your AuM split over the last 5 years?  What was your AuM split over the last 5 years?  What was your AuM split over the last 5 years?  What was your AuM split over the last 5 years?  What was your revenue in the last 5 years?  What was your revenue in the last 5 years?  What was your revenue in the last 5 years?  What was your revenue in the last 5 years?  What was your revenue in the last 5 years?\n",
      "Question level 2                                      EoY 2020                                      EoY 2021                                      EoY 2022                                      EoY 2023                             YTD 31 March 2024                                        EoY 2020                                        EoY 2020                                        EoY 2020                                        EoY 2020                                        EoY 2020  ...                               YTD 31 March 2024                               YTD 31 March 2024                               YTD 31 March 2024                               YTD 31 March 2024                               YTD 31 March 2024                                        2020                                        2021                                        2022                                        2023                                        2024\n",
      "Question level 3                                         Total                                         Total                                         Total                                         Total                                         Total                                    Fixed income                                     Hedge funds                                     Multi-asset                                           Other                                    Private Debt  ...                                     Multi-asset                                           Other                                    Private Debt                                  Private Equity                                 Public equities                                       Total                                       Total                                       Total                                       Total                                       Total\n",
      "Company A                                                  0.0                                           0.0                                           0.0                                           0.0                                           0.0                                          1000.0                                           400.0                                           800.0                                           300.0                                           700.0  ...                                           885.1                                           342.5                                           785.1                                          1047.0                                           585.1                                      3569.0                                      3796.9                                      4034.8                                      4409.3                                      4834.9\n",
      "Company B                                               3550.0                                        3710.0                                        3940.0                                        4060.0                                        4275.7                                           600.0                                           300.0                                           950.0                                           250.0                                             0.0  ...                                          1073.8                                           291.3                                             0.0                                           842.5                                           823.8                                      2662.5                                      2866.0                                      3135.0                                      3327.4                                      3588.4\n",
      "Company C                                               6000.0                                        6211.0                                        9358.0                                        6521.0                                        6848.9                                          2500.0                                           450.0                                          1000.0                                           350.0                                           200.0  ...                                          1090.1                                           395.1                                           195.0                                           935.4                                           700.2                                      3900.0                                      4198.6                                      6579.0                                      4767.9                                      5136.6\n",
      "Company D                                               6857.0                                        6843.0                                        6737.0                                        6827.0                                        7629.4                                          1010.0                                           790.0                                           300.0                                           380.0                                           920.0  ...                                           520.0                                           417.5                                           995.0                                           925.0                                          2709.0                                      5348.5                                      5540.4                                      5661.8                                      5955.5                                      6520.4\n",
      "Company E                                                  0.0                                        5138.0                                        5698.0                                        5745.0                                        5617.0                                             0.0                                             0.0                                             0.0                                             0.0                                             0.0  ...                                             0.0                                           360.0                                             0.0                                          3809.0                                           700.0                                         0.0                                      4315.8                                      4963.2                                      5189.3                                      5355.1\n",
      "Company A Growth                                           NaN                                           NaN                                           NaN                                           NaN                                           NaN                                             inf                                           -60.0                                           100.0                                           -62.5                                      133.333333  ...                                       34.718417                                      -61.303807                                      129.226277                                       33.358808                                      -44.116523                                    509.9812                                    6.385542                                    6.265638                                    9.281749                                    9.652326\n",
      "Company B Growth                                           NaN                                      4.507042                                      6.199461                                      3.045685                                      5.312808                                       -85.96721                                           -50.0                                      216.666667                                      -73.684211                                          -100.0  ...                                      214.620568                                      -72.872043                                          -100.0                                             inf                                       -2.219585                                  223.197378                                    7.643192                                    9.385904                                    6.137161                                    7.843962\n",
      "Company C Growth                                           NaN                                      3.516667                                     50.668169                                    -30.316307                                       5.02837                                      -63.497788                                           -82.0                                      122.222222                                           -65.0                                      -42.857143  ...                                      120.177742                                      -63.755619                                      -50.645406                                      379.692308                                      -25.144323                                  456.983719                                     7.65641                                   56.695089                                    -27.5285                                    7.732964\n",
      "Company D Growth                                           NaN                                     -0.204171                                     -1.549028                                      1.335906                                     11.753332                                      -86.761737                                      -21.782178                                      -62.025316                                       26.666667                                      142.105263  ...                                       -36.03936                                      -19.711538                                      138.323353                                       -7.035176                                      192.864865                                   97.434478                                    3.587922                                    2.191178                                    5.187396                                     9.48535\n",
      "Company E Growth                                           NaN                                           inf                                     10.899183                                      0.824851                                     -2.228024                                          -100.0                                             NaN                                             NaN                                             NaN                                             NaN  ...                                          -100.0                                             inf                                          -100.0                                             inf                                      -81.622473                                      -100.0                                         inf                                   15.000695                                    4.555529                                    3.195036\n",
      "\n",
      "[14 rows x 45 columns]\n"
     ]
    }
   ],
   "source": [
    "# Transpose the DataFrame\n",
    "df = df.transpose()\n",
    "\n",
    "# Print the transposed DataFrame\n",
    "print(df)\n"
   ]
  },
  {
   "cell_type": "markdown",
   "metadata": {},
   "source": [
    "## Calculations"
   ]
  },
  {
   "cell_type": "code",
   "execution_count": 8,
   "metadata": {},
   "outputs": [
    {
     "name": "stdout",
     "output_type": "stream",
     "text": [
      "Index([ 1,  2,  3,  4,  6,  7,  8,  9, 10, 11, 12, 13, 14, 15, 16, 17, 18, 19,\n",
      "       20, 21, 22, 23, 24, 25, 26, 27, 28, 29, 30, 31, 32, 33, 34, 42, 43, 44,\n",
      "       45, 46, 47, 48, 49, 50, 51, 52, 53],\n",
      "      dtype='int64')\n"
     ]
    }
   ],
   "source": [
    "# # AUM 4 year CAGR\n",
    "# df['AUM 4 year CAGR'] = np.nan\n",
    "# df['AUM 4 year CAGR'] = df['AUM 4 year CAGR'].astype(float)\n",
    "# df['AUM 4 year CAGR'] = (df['AUM 2024'] / df['AUM 2020']) ** (1 / 4) - 1\n",
    "\n",
    "print(df.columns)"
   ]
  },
  {
   "cell_type": "markdown",
   "metadata": {},
   "source": [
    "## Summary"
   ]
  },
  {
   "cell_type": "code",
   "execution_count": null,
   "metadata": {},
   "outputs": [],
   "source": []
  }
 ],
 "metadata": {
  "kernelspec": {
   "display_name": "Python 3",
   "language": "python",
   "name": "python3"
  },
  "language_info": {
   "codemirror_mode": {
    "name": "ipython",
    "version": 3
   },
   "file_extension": ".py",
   "mimetype": "text/x-python",
   "name": "python",
   "nbconvert_exporter": "python",
   "pygments_lexer": "ipython3",
   "version": "3.10.12"
  }
 },
 "nbformat": 4,
 "nbformat_minor": 2
}
